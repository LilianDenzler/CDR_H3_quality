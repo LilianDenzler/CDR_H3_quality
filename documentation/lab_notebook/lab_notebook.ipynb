{
 "cells": [
  {
   "cell_type": "markdown",
   "metadata": {},
   "source": [
    "<a id=\"Title\"></a>"
   ]
  },
  {
   "cell_type": "markdown",
   "metadata": {},
   "source": [
    "# LAB NOTEBOOK\n",
    "## PROF. ANDREW C.R. MARTIN\n",
    "## Project: CDR H3 Modelling Quality Prediction\n",
    "### By: Lilian Denzler, Msci Student"
   ]
  },
  {
   "cell_type": "markdown",
   "metadata": {},
   "source": [
    "#  "
   ]
  },
  {
   "cell_type": "markdown",
   "metadata": {},
   "source": [
    "<a id=\"Introduction\"></a>"
   ]
  },
  {
   "cell_type": "markdown",
   "metadata": {},
   "source": [
    "### Introduction"
   ]
  },
  {
   "cell_type": "markdown",
   "metadata": {},
   "source": [
    "Antibody modelling has come a far way in the recent decade. A great achievement has been the development of many sophisticated software programmes, such as \"abYmod\" written by Prof. Martin at UCL. \n",
    "\n",
    "- recent developments in the field\n",
    "- problems i.e. CDRH3 modelling\n",
    "- why modelling is so hard (biological background)\n",
    "- quality assesment methods\n",
    "- how this is different\n",
    "\n",
    "<b>Project aim:</b>\n",
    "The aim is to have by the end of the project: \n",
    "\n",
    "<b>Plan:</b>\n",
    "\n",
    "1) Dataset creation\n",
    "- AbDb pdb data\n",
    "- sequence extraction\n",
    "- antibody modelling dataset\n",
    "- template dataset\n",
    "\n",
    "2) RMS deviation calculations\n",
    "\n",
    "3) Feature set creation\n",
    "- sequence identity of template scores\n",
    "- length\n",
    "- hydrophobicity score\n",
    "-...\n",
    "\n",
    "4) Feature encoding\n",
    "\n",
    "5) ML models\n",
    "\n",
    "6) Evaluation\n",
    "\n",
    "7) stand-alone web-programme\n"
   ]
  },
  {
   "cell_type": "markdown",
   "metadata": {},
   "source": [
    "### Contents"
   ]
  },
  {
   "cell_type": "markdown",
   "metadata": {},
   "source": [
    "[Title](#Title)\n",
    "\n",
    "[Introduction](#Introduction)\n",
    "\n",
    "[Organization](#Organization)"
   ]
  },
  {
   "cell_type": "markdown",
   "metadata": {},
   "source": [
    "<a id=\"Organization\"></a>"
   ]
  },
  {
   "cell_type": "markdown",
   "metadata": {},
   "source": [
    "### Organization"
   ]
  },
  {
   "cell_type": "markdown",
   "metadata": {},
   "source": [
    "The data is organised as illustrated in this diagram:"
   ]
  },
  {
   "cell_type": "code",
   "execution_count": null,
   "metadata": {},
   "outputs": [],
   "source": []
  }
 ],
 "metadata": {
  "kernelspec": {
   "display_name": "Bash",
   "language": "bash",
   "name": "bash"
  },
  "language_info": {
   "codemirror_mode": "shell",
   "file_extension": ".sh",
   "mimetype": "text/x-sh",
   "name": "bash"
  }
 },
 "nbformat": 4,
 "nbformat_minor": 4
}
