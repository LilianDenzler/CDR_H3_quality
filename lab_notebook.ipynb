{
 "cells": [
  {
   "cell_type": "markdown",
   "metadata": {},
   "source": [
    "<a id=\"Title\"></a>\n"
   ]
  },
  {
   "cell_type": "code",
   "execution_count": 2,
   "metadata": {},
   "outputs": [],
   "source": [
    "#always run \"source ~/anaconda3/bin/activate root\" before running anaconda-navigator to open this notebook"
   ]
  },
  {
   "cell_type": "markdown",
   "metadata": {},
   "source": [
    "# LAB NOTEBOOK\n",
    "## PROF. ANDREW C.R. MARTIN\n",
    "## Project: CDR H3 Modelling Quality Prediction\n",
    "### By: Lilian Denzler, Msci Student"
   ]
  },
  {
   "cell_type": "markdown",
   "metadata": {},
   "source": [
    "#  "
   ]
  },
  {
   "cell_type": "markdown",
   "metadata": {},
   "source": [
    "<a id=\"Introduction\"></a>"
   ]
  },
  {
   "cell_type": "markdown",
   "metadata": {},
   "source": [
    "### Introduction"
   ]
  },
  {
   "cell_type": "markdown",
   "metadata": {},
   "source": [
    "Antibody modelling has come a far way in the recent decade. A great achievement has been the development of many sophisticated software programmes, such as \"abYmod\" written by Prof. Martin at UCL. \n",
    "\n",
    "- recent developments in the field\n",
    "- problems i.e. CDRH3 modelling\n",
    "- why modelling is so hard (biological background)\n",
    "- quality assesment methods\n",
    "- how this is different\n",
    "\n",
    "<b>Project aim:</b>\n",
    "The aim is to have by the end of the project: \n",
    "\n",
    "<b>Plan:</b>\n",
    "\n",
    "1) Dataset creation\n",
    "- AbDb pdb data\n",
    "- sequence extraction\n",
    "- antibody modelling dataset\n",
    "- template dataset\n",
    "\n",
    "2) RMS deviation calculations\n",
    "\n",
    "3) Feature set creation\n",
    "- sequence identity of template scores\n",
    "- length\n",
    "- hydrophobicity score\n",
    "-...\n",
    "\n",
    "4) Feature encoding\n",
    "\n",
    "5) ML models\n",
    "\n",
    "6) Evaluation\n",
    "\n",
    "7) stand-alone web-programme\n"
   ]
  },
  {
   "cell_type": "markdown",
   "metadata": {},
   "source": [
    "### Contents"
   ]
  },
  {
   "cell_type": "markdown",
   "metadata": {},
   "source": [
    "[Title](#Title)\n",
    "\n",
    "[Introduction](#Introduction)\n",
    "\n",
    "[Setup and Organization](#SetupandOrganization)\n",
    "\n",
    "[1. Dataset Generation](#DatasetGeneration)\n",
    "\n",
    "[1.1 Antibody Sequence Parsing](#AntibodySequenceParsing)"
   ]
  },
  {
   "cell_type": "markdown",
   "metadata": {},
   "source": [
    "<a id=\"SetupandOrganization\"></a>"
   ]
  },
  {
   "cell_type": "markdown",
   "metadata": {},
   "source": [
    "### Setup and Organisation"
   ]
  },
  {
   "cell_type": "markdown",
   "metadata": {},
   "source": [
    "This lab-notebook (written in Jupyter-notebook, running a bash kernel) will include be used to document the workflow of this project. In order to ensure reproducibility of results, bash shell commands will be included in the following and all used employed programs are to be found on github (https://github.com/LilianDenzler/CDR_H3_quality/tree/master)\n",
    "\n",
    "<i>Calender Week 40 & 41</i>\n",
    "\n",
    "After discussing the options for computer setup with Prof. Martin, I decided to opt for running a Linux OS (Ubuntu 20.04.1 LTS) in a Virtual Machine on my Windows-Laptop. I used VirtualBox (https://www.virtualbox.org/) for this and booted the VM from an external hard-drive. This enabled me to use the BASH shell without any compliations, and also gave me additional storage for any large files I didn't want to save on my laptop. \n",
    "\n",
    "Afterwards, I set up Git in order to track changes. I also set up a GitHub account (User: LilianDenzler) and made a new repository titled \"CDR_H3_quality\". Then, I synchronized Git with Github. The directory <i>/git</i> contains all files that are pushed to the repository. Prof. Martin showed me how to log into his personal server remotely, which had abYmod, bioptools and csv2arff installed on it. \n",
    "\n",
    "The locally saved data is organised as illustrated in this diagram:"
   ]
  },
  {
   "cell_type": "markdown",
   "metadata": {},
   "source": [
    "![alt: Diagram of Folder Hierarchy](organisation_doc.png \"Organisation of Datasets, Scripts, Documents, etc.\")"
   ]
  },
  {
   "cell_type": "markdown",
   "metadata": {},
   "source": [
    "<i>Calender Week 42</i>\n",
    "\n",
    "Unison was set up to sync files between the remote server and my local client. This is important for backing up data and enables me to work with large datasets, which my laptop does not have sufficient computing power for. The synced data is saved in the <i> /sync_project</i> directory. Files in the <i> /NOSYNC</i> subdirectory will not be synced."
   ]
  },
  {
   "cell_type": "markdown",
   "metadata": {},
   "source": [
    "<a id=\"DatasetGeneration\"></a>"
   ]
  },
  {
   "cell_type": "markdown",
   "metadata": {},
   "source": [
    "## 1. Dataset Generation"
   ]
  },
  {
   "cell_type": "markdown",
   "metadata": {},
   "source": [
    "The first step is to produce a dataset of Antibody models, which can then be examined regarding their quality in following steps."
   ]
  },
  {
   "cell_type": "markdown",
   "metadata": {},
   "source": [
    "<a id=\"AntibodySequenceParsing\"></a>"
   ]
  },
  {
   "cell_type": "markdown",
   "metadata": {},
   "source": [
    "### 1.1 Antibody Sequence Parsing"
   ]
  },
  {
   "cell_type": "markdown",
   "metadata": {},
   "source": [
    "<i>Calender Week 42 & 43</i>\n",
    "\n",
    "The Chothia-numbered non-redundant Antibody stucture AbDb-dataset from bioinf.org.uk/abs/abdb was downloaded. The sequence of these Antibodies had to be extracted from these PDB files. To acomplish this, I wrote a short python script (\"seq_parser.py\"), which returned the sequence in the following abYmod-compatible format:\n",
    "\n",
    "L1 D  \n",
    "L2 I                 \n",
    "L3 Q        \n",
    "L4 M                 \n",
    "...    \n",
    "H1 F      \n",
    "H2 M      \n",
    "H3 T      \n",
    "H4 Q     \n",
    "...     \n",
    "\n",
    "However, some of the antibodies in my newly-made dataset had redundant antibodies in the complete, redundant AbDb-dataset which is used by abYmod. I thus downloaded the textfile of PDB codes of redundant structures (also on bioinf.org.uk/abs/abdb). A python script formatted this into a dictionary. This dictionary will be used during the abYmod modelling step: For all input sequences it will be used to check if there are any redundant structures in the dataset, which will then be excluded along with the original PDB structure. This is important, as otherwise the modelling software will have an exact template and thus achieve 100% accuracy in modelling.  \n",
    "\n",
    "\n"
   ]
  },
  {
   "cell_type": "code",
   "execution_count": 4,
   "metadata": {},
   "outputs": [
    {
     "name": "stdout",
     "output_type": "stream",
     "text": [
      "this file is not in correct format (i.e. not PDB).~lock.1AI1_1.pdb#\n",
      "Traceback (most recent call last):\n",
      "  File \"parser6.py\", line 37, in <module>\n",
      "    for line in file2:\n",
      "  File \"/home/lilian/anaconda3/lib/python3.8/codecs.py\", line 319, in decode\n",
      "    def decode(self, input, final=False):\n",
      "KeyboardInterrupt\n",
      "\n"
     ]
    }
   ],
   "source": [
    "python3 parser6.py"
   ]
  },
  {
   "cell_type": "markdown",
   "metadata": {},
   "source": [
    "<a id=\"AbYmodModelling\"></a>"
   ]
  },
  {
   "cell_type": "markdown",
   "metadata": {},
   "source": [
    "### 1.2 AbYmod Modelling "
   ]
  },
  {
   "cell_type": "code",
   "execution_count": null,
   "metadata": {},
   "outputs": [],
   "source": []
  }
 ],
 "metadata": {
  "kernelspec": {
   "display_name": "Bash",
   "language": "bash",
   "name": "bash"
  },
  "language_info": {
   "codemirror_mode": "shell",
   "file_extension": ".sh",
   "mimetype": "text/x-sh",
   "name": "bash"
  }
 },
 "nbformat": 4,
 "nbformat_minor": 4
}
